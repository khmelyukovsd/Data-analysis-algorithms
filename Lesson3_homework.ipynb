{
 "cells": [
  {
   "cell_type": "markdown",
   "metadata": {},
   "source": [
    "Задание 1: Измените функцию calc_logloss так, чтобы нули по возможности не попадали в np.log.\n",
    "Задание 2: Подберите аргументы функции eval_model для логистической регрессии таким образом, чтобы log loss был минимальным.\n",
    "Задание 3: Создайте функцию calc_pred_proba, возвращающую предсказанную вероятность класса 1 (на вход подаются W, который уже посчитан функцией eval_model и X, на выходе - массив y_pred_proba).\n",
    "Задание 4: Создайте функцию calc_pred, возвращающую предсказанный класс (на вход подаются W, который уже посчитан функцией eval_model и X, на выходе - массив y_pred).\n",
    "Задание 5: Посчитайте Accuracy, матрицу ошибок, точность и полноту, а также F1 score.\n",
    "Задание 6: Могла ли модель переобучиться? Почему?\n",
    "Задание 7 (опциональное): Создайте функции eval_model_l1 и eval_model_l2 с применением L1 и L2 регуляризаций соответственно."
   ]
  },
  {
   "cell_type": "code",
   "execution_count": 20,
   "metadata": {},
   "outputs": [],
   "source": [
    "import numpy as np\n",
    "import matplotlib.pyplot as plt"
   ]
  },
  {
   "cell_type": "code",
   "execution_count": 21,
   "metadata": {},
   "outputs": [],
   "source": [
    "X = np.array([[1, 1, 1, 1, 1, 1, 1, 1, 1, 1],\n",
    "              [1, 1, 2, 1, 3, 0, 5, 10, 1, 2],\n",
    "              [500, 700, 750, 600, 1450,\n",
    "               800, 1500, 2000, 450, 1000],\n",
    "              [1, 1, 2, 1, 2, \n",
    "               1, 3, 3, 1, 2]], dtype = np.float64)\n",
    "\n",
    "y = np.array([0, 0, 1, 0, 1, 0, 1, 0, 1, 1], dtype = np.float64)"
   ]
  },
  {
   "cell_type": "code",
   "execution_count": null,
   "metadata": {},
   "outputs": [],
   "source": []
  },
  {
   "cell_type": "code",
   "execution_count": 31,
   "metadata": {},
   "outputs": [],
   "source": [
    "def sigmoid(W, X):\n",
    "    z = np.dot(W, X)\n",
    "    sg = 1 / (1 + np.exp(-z))\n",
    "    return sg\n",
    "\n",
    "# функция logloss\n",
    "def calc_logloss(y, y_pred):\n",
    "    y_pred = np.clip(y_pred, 1e-5, 1-1e-5) # избавляемся от нуля с помощью гистерезиса\n",
    "    err = - np.mean(y * np.log(y_pred) + (1.0 - y) * np.log(1.0 - y_pred))\n",
    "    return err\n",
    "\n",
    "def optimize(w, X, y, n_iterations, eta):\n",
    "# потери будем записывать в список для отображения в виде графика\n",
    "    losses = []\n",
    "    for i in range(n_iterations):        \n",
    "        loss, grad = log_loss(w, X, y)\n",
    "        w = w - eta * grad\n",
    "        losses.append(loss)\n",
    "    return w, losses\n",
    "\n",
    "def eval_model(X, y, iterations = 100, alpha=1e-4):\n",
    "    np.random.seed(42)\n",
    "    W = np.random.randn(X.shape[0])\n",
    "    n = X.shape[1]\n",
    "    for i in range(1, iterations+1):\n",
    "        y_pred = sigmoid(W, X)\n",
    "        err = calc_logloss(y, y_pred)\n",
    "        W = W - alpha * (1/n * np.dot((y_pred - y), X.T))\n",
    "    if i % (iterations / 10) == 0:\n",
    "        print(i, W, err)\n",
    "    return W\n",
    "\n",
    "def calc_pred_proba(W, X):\n",
    "    y_pred_proba = sigmoid(W, X)\n",
    "    return y_pred_proba\n",
    "\n",
    "def calc_pred(w, X, threshold = 0.5):\n",
    "    m = X.shape[1]\n",
    "    y_pred = np.zeros((1, m))\n",
    "    w = w.reshape(X.shape[0], 1)\n",
    "    \n",
    "    A = sigmoid(w.T, X)\n",
    "    for i in range(A.shape[1]):\n",
    "        if (A[:,i] > threshold): \n",
    "            y_pred[:, i] = 1\n",
    "        elif (A[:,i] <= threshold):\n",
    "            y_pred[:, i] = 0\n",
    "    return y_pred\n",
    "\n",
    "# Метрики качевства\n",
    "def accuracy(y, y_pred):\n",
    "    return 100.0 - np.mean(np.abs(y - y_pred)*100.0)\n",
    "\n",
    "def error_matrix(y, y_pred):\n",
    "        m = np.zeros((2, 2))\n",
    "        m[0,0] = np.sum(np.where(y == 1, y == y_pred, False))\n",
    "        m[1,1] = np.sum(np.where(y == 0, y == y_pred, False))\n",
    "        m[1,0] = np.sum(np.where(y == 1, y != y_pred, False))\n",
    "        m[0,1] = np.sum(np.where(y == 0, y != y_pred, False))\n",
    "        return m\n"
   ]
  },
  {
   "cell_type": "code",
   "execution_count": 23,
   "metadata": {},
   "outputs": [],
   "source": [
    "# Стандартизация данных\n",
    "x_st = X[1:,].copy()\n",
    "x_mean, x_std = x_st.mean(axis=1).reshape(-1,1), x_st.std(axis=1).reshape(-1,1)\n",
    "X[1:,] = (x_st - x_mean) / x_std"
   ]
  },
  {
   "cell_type": "code",
   "execution_count": 24,
   "metadata": {},
   "outputs": [
    {
     "name": "stdout",
     "output_type": "stream",
     "text": [
      "100 [ 0.49635335 -0.14077362  0.64537112  1.52180639] 0.7625324736043118\n"
     ]
    }
   ],
   "source": [
    "W = eval_model(X, y)"
   ]
  },
  {
   "cell_type": "code",
   "execution_count": 25,
   "metadata": {},
   "outputs": [
    {
     "data": {
      "text/plain": [
       "array([0.19476588, 0.23991495, 0.69245003, 0.21648985, 0.84461615,\n",
       "       0.27492534, 0.97359525, 0.98239037, 0.1845406 , 0.75847462])"
      ]
     },
     "execution_count": 25,
     "metadata": {},
     "output_type": "execute_result"
    }
   ],
   "source": [
    "y_pred_proba = calc_pred_proba(W, X)\n",
    "y_pred_proba"
   ]
  },
  {
   "cell_type": "code",
   "execution_count": 26,
   "metadata": {},
   "outputs": [
    {
     "data": {
      "text/plain": [
       "array([[0., 0., 1., 0., 1., 0., 1., 1., 0., 1.]])"
      ]
     },
     "execution_count": 26,
     "metadata": {},
     "output_type": "execute_result"
    }
   ],
   "source": [
    "y_pred = calc_pred(W, X)\n",
    "y_pred"
   ]
  },
  {
   "cell_type": "code",
   "execution_count": 27,
   "metadata": {},
   "outputs": [
    {
     "data": {
      "text/plain": [
       "80.0"
      ]
     },
     "execution_count": 27,
     "metadata": {},
     "output_type": "execute_result"
    }
   ],
   "source": [
    "accuracy = accuracy(y, y_pred)\n",
    "accuracy"
   ]
  },
  {
   "cell_type": "code",
   "execution_count": 38,
   "metadata": {},
   "outputs": [
    {
     "data": {
      "text/plain": [
       "array([[4., 1.],\n",
       "       [1., 4.]])"
      ]
     },
     "execution_count": 38,
     "metadata": {},
     "output_type": "execute_result"
    }
   ],
   "source": [
    "matrix = error_matrix(y, y_pred)\n",
    "matrix"
   ]
  },
  {
   "cell_type": "code",
   "execution_count": 43,
   "metadata": {},
   "outputs": [
    {
     "data": {
      "text/plain": [
       "(0.8, 0.8)"
      ]
     },
     "execution_count": 43,
     "metadata": {},
     "output_type": "execute_result"
    }
   ],
   "source": [
    "precision = matrix[0,0] / (matrix[0,0] + matrix[0,1])\n",
    "recall = matrix[0,0] / (matrix[0,0] + matrix[1,0])\n",
    "precision, recall"
   ]
  },
  {
   "cell_type": "code",
   "execution_count": 44,
   "metadata": {},
   "outputs": [
    {
     "data": {
      "text/plain": [
       "0.8000000000000002"
      ]
     },
     "execution_count": 44,
     "metadata": {},
     "output_type": "execute_result"
    }
   ],
   "source": [
    "F1 = 2 * precision * recall / (precision + recall)\n",
    "F1"
   ]
  },
  {
   "cell_type": "code",
   "execution_count": null,
   "metadata": {},
   "outputs": [],
   "source": []
  }
 ],
 "metadata": {
  "kernelspec": {
   "display_name": "Python 3",
   "language": "python",
   "name": "python3"
  },
  "language_info": {
   "codemirror_mode": {
    "name": "ipython",
    "version": 3
   },
   "file_extension": ".py",
   "mimetype": "text/x-python",
   "name": "python",
   "nbconvert_exporter": "python",
   "pygments_lexer": "ipython3",
   "version": "3.7.6"
  }
 },
 "nbformat": 4,
 "nbformat_minor": 4
}
